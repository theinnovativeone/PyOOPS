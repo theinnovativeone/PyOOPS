{
  "nbformat": 4,
  "nbformat_minor": 0,
  "metadata": {
    "colab": {
      "name": "Untitled0.ipynb",
      "provenance": [],
      "authorship_tag": "ABX9TyM7LSqxp3/Imd4MV1ABT9Q5",
      "include_colab_link": true
    },
    "kernelspec": {
      "name": "python3",
      "display_name": "Python 3"
    },
    "language_info": {
      "name": "python"
    }
  },
  "cells": [
    {
      "cell_type": "markdown",
      "metadata": {
        "id": "view-in-github",
        "colab_type": "text"
      },
      "source": [
        "<a href=\"https://colab.research.google.com/github/theinnovativeone/PyOOPS/blob/main/pyOOPS.ipynb\" target=\"_parent\"><img src=\"https://colab.research.google.com/assets/colab-badge.svg\" alt=\"Open In Colab\"/></a>"
      ]
    },
    {
      "cell_type": "markdown",
      "metadata": {
        "id": "Lr9EizZGApDo"
      },
      "source": [
        "INHERITANCE IN PYTHON:\n",
        "1.\tInheritance is a key concept in Object-Oriented Programming. \n",
        "2.\tEnables us to create a new class from an existing class. \n",
        "3.\tThe new class is a specialized version of the existing class and it inherits all the non-private variables and methods of the existing class.\n",
        "\n",
        "Its Benefits:\n",
        "\n",
        "1)\tIt represents real-world relationships well.\n",
        "\n",
        "2)\tIt provides reusability of a code. We don’t have to write the same code again and again. Also, it allows us to add more features to a class without modifying it.\n",
        "\n",
        "3)\tIt is transitive in nature, which means that if class B inherits from another class A, then all the subclasses of B would automatically inherit from class A.\n",
        "\n",
        "**Terminologies:**\n",
        "\n",
        "Superclass or parent class: the existing class.\n",
        "\n",
        "Subclass or child class: the class inherits the superclass.\n",
        "\n",
        "**Syntax:**\n",
        "\n",
        "class ParentClass:\n",
        "\n",
        "class ChildClass(ParentClass):\n",
        "\n",
        " …\n",
        "\n"
      ]
    },
    {
      "cell_type": "code",
      "metadata": {
        "colab": {
          "base_uri": "https://localhost:8080/"
        },
        "id": "pndiRIjFAkPI",
        "outputId": "cfdf0b1d-fae0-4ac3-f03f-c82e1460cb67"
      },
      "source": [
        "class A:\n",
        "  atrr = 40\n",
        "class B:\n",
        "  atrr = 100\n",
        "\n",
        "obj1 = A()\n",
        "obj2 = B()\n",
        "print(obj1.atrr)\n",
        "print(obj2.atrr)"
      ],
      "execution_count": 1,
      "outputs": [
        {
          "output_type": "stream",
          "text": [
            "40\n",
            "100\n"
          ],
          "name": "stdout"
        }
      ]
    },
    {
      "cell_type": "code",
      "metadata": {
        "id": "I461MKJrAoiW"
      },
      "source": [
        ""
      ],
      "execution_count": null,
      "outputs": []
    }
  ]
}